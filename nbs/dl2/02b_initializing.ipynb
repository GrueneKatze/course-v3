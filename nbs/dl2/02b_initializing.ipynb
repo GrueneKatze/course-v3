{
  "nbformat": 4,
  "nbformat_minor": 0,
  "metadata": {
    "kernelspec": {
      "display_name": "Python 3",
      "language": "python",
      "name": "python3"
    },
    "colab": {
      "name": "02b_initializing.ipynb",
      "provenance": []
    },
    "accelerator": "GPU"
  },
  "cells": [
    {
      "cell_type": "code",
      "metadata": {
        "id": "vrfC8mQq6G_g",
        "colab_type": "code",
        "colab": {
          "base_uri": "https://localhost:8080/",
          "height": 272
        },
        "outputId": "922b4f60-c9d4-463b-f415-71b3f565671a"
      },
      "source": [
        "!curl -s https://course.fast.ai/setup/colab | bash\n",
        "!pip install fire\n",
        "%matplotlib inline\n",
        "from fastai.basics import *"
      ],
      "execution_count": 1,
      "outputs": [
        {
          "output_type": "stream",
          "text": [
            "Updating fastai...\n",
            "Done.\n",
            "Collecting fire\n",
            "\u001b[?25l  Downloading https://files.pythonhosted.org/packages/34/a7/0e22e70778aca01a52b9c899d9c145c6396d7b613719cd63db97ffa13f2f/fire-0.3.1.tar.gz (81kB)\n",
            "\u001b[K     |████████████████████████████████| 81kB 5.3MB/s \n",
            "\u001b[?25hRequirement already satisfied: six in /usr/local/lib/python3.6/dist-packages (from fire) (1.15.0)\n",
            "Requirement already satisfied: termcolor in /usr/local/lib/python3.6/dist-packages (from fire) (1.1.0)\n",
            "Building wheels for collected packages: fire\n",
            "  Building wheel for fire (setup.py) ... \u001b[?25l\u001b[?25hdone\n",
            "  Created wheel for fire: filename=fire-0.3.1-py2.py3-none-any.whl size=111005 sha256=04e6f38aa4d9b14d38c4e209a74e429eb0be48469b5d9ba926b0e241f5bd8f3e\n",
            "  Stored in directory: /root/.cache/pip/wheels/c1/61/df/768b03527bf006b546dce284eb4249b185669e65afc5fbb2ac\n",
            "Successfully built fire\n",
            "Installing collected packages: fire\n",
            "Successfully installed fire-0.3.1\n"
          ],
          "name": "stdout"
        }
      ]
    },
    {
      "cell_type": "code",
      "metadata": {
        "id": "3lPh1Rhn6H7r",
        "colab_type": "code",
        "colab": {
          "base_uri": "https://localhost:8080/",
          "height": 138
        },
        "outputId": "e79901dc-f152-4983-d0e0-7f06081213f3"
      },
      "source": [
        "from google.colab import drive\n",
        "drive.mount('/content/gdrive', force_remount=True)\n",
        "%cd '/content/gdrive/My Drive/Colab Notebooks/'"
      ],
      "execution_count": 2,
      "outputs": [
        {
          "output_type": "stream",
          "text": [
            "Go to this URL in a browser: https://accounts.google.com/o/oauth2/auth?client_id=947318989803-6bn6qk8qdgf4n4g3pfee6491hc0brc4i.apps.googleusercontent.com&redirect_uri=urn%3aietf%3awg%3aoauth%3a2.0%3aoob&response_type=code&scope=email%20https%3a%2f%2fwww.googleapis.com%2fauth%2fdocs.test%20https%3a%2f%2fwww.googleapis.com%2fauth%2fdrive%20https%3a%2f%2fwww.googleapis.com%2fauth%2fdrive.photos.readonly%20https%3a%2f%2fwww.googleapis.com%2fauth%2fpeopleapi.readonly\n",
            "\n",
            "Enter your authorization code:\n",
            "··········\n",
            "Mounted at /content/gdrive\n",
            "/content/gdrive/My Drive/Colab Notebooks\n"
          ],
          "name": "stdout"
        }
      ]
    },
    {
      "cell_type": "code",
      "metadata": {
        "id": "Pt31XpO86BYo",
        "colab_type": "code",
        "colab": {}
      },
      "source": [
        "import torch"
      ],
      "execution_count": 3,
      "outputs": []
    },
    {
      "cell_type": "markdown",
      "metadata": {
        "id": "of45kqxP6BYw",
        "colab_type": "text"
      },
      "source": [
        "### Why you need a good init"
      ]
    },
    {
      "cell_type": "markdown",
      "metadata": {
        "id": "s39LO62m6BYx",
        "colab_type": "text"
      },
      "source": [
        "To understand why initialization is important in a neural net, we'll focus on the basic operation you have there: matrix multiplications. So let's just take a vector `x`, and a matrix `a` initiliazed randomly, then multiply them 100 times (as if we had 100 layers). "
      ]
    },
    {
      "cell_type": "markdown",
      "metadata": {
        "id": "5eC-Q9eX6BYz",
        "colab_type": "text"
      },
      "source": [
        "[Jump_to lesson 9 video](https://course.fast.ai/videos/?lesson=9&t=1132)"
      ]
    },
    {
      "cell_type": "code",
      "metadata": {
        "id": "uiWWWiXq6BY0",
        "colab_type": "code",
        "colab": {}
      },
      "source": [
        "x = torch.randn(512)\n",
        "a = torch.randn(512,512)\n",
        "a[0]"
      ],
      "execution_count": null,
      "outputs": []
    },
    {
      "cell_type": "code",
      "metadata": {
        "id": "4SfS4jaf6BY6",
        "colab_type": "code",
        "colab": {}
      },
      "source": [
        "for i in range(100): x = a @ x"
      ],
      "execution_count": 5,
      "outputs": []
    },
    {
      "cell_type": "code",
      "metadata": {
        "id": "xeQnMHC06BZB",
        "colab_type": "code",
        "colab": {
          "base_uri": "https://localhost:8080/",
          "height": 34
        },
        "outputId": "1921ab1a-bd15-451e-a7dd-08987944d0da"
      },
      "source": [
        "x.mean(),x.std()"
      ],
      "execution_count": 6,
      "outputs": [
        {
          "output_type": "execute_result",
          "data": {
            "text/plain": [
              "(tensor(nan), tensor(nan))"
            ]
          },
          "metadata": {
            "tags": []
          },
          "execution_count": 6
        }
      ]
    },
    {
      "cell_type": "markdown",
      "metadata": {
        "id": "qh0NNZb66BZJ",
        "colab_type": "text"
      },
      "source": [
        "The problem you'll get with that is activation explosion: very soon, your activations will go to nan. We can even ask the loop to break when that first happens:"
      ]
    },
    {
      "cell_type": "code",
      "metadata": {
        "id": "ER1YjLMZ6BZK",
        "colab_type": "code",
        "colab": {}
      },
      "source": [
        "x = torch.randn(512)\n",
        "a = torch.randn(512,512)"
      ],
      "execution_count": 12,
      "outputs": []
    },
    {
      "cell_type": "code",
      "metadata": {
        "id": "Cc1tGo-n6BZQ",
        "colab_type": "code",
        "colab": {}
      },
      "source": [
        "for i in range(100): \n",
        "    x = a @ x\n",
        "    if x.std() != x.std(): break"
      ],
      "execution_count": 13,
      "outputs": []
    },
    {
      "cell_type": "code",
      "metadata": {
        "id": "bP7U-N8_6BZX",
        "colab_type": "code",
        "colab": {
          "base_uri": "https://localhost:8080/",
          "height": 34
        },
        "outputId": "aeebbc5a-aaf6-456c-fff2-2b4c85b3a75f"
      },
      "source": [
        "i"
      ],
      "execution_count": 14,
      "outputs": [
        {
          "output_type": "execute_result",
          "data": {
            "text/plain": [
              "28"
            ]
          },
          "metadata": {
            "tags": []
          },
          "execution_count": 14
        }
      ]
    },
    {
      "cell_type": "markdown",
      "metadata": {
        "id": "RldbRcPF6BZd",
        "colab_type": "text"
      },
      "source": [
        "It only takes 27 multiplications! On the other hand, if you initialize your activations with a scale that is too low, then you'll get another problem:"
      ]
    },
    {
      "cell_type": "code",
      "metadata": {
        "id": "LZssfs1F6BZe",
        "colab_type": "code",
        "colab": {}
      },
      "source": [
        "x = torch.randn(512)\n",
        "a = torch.randn(512,512) * 0.01"
      ],
      "execution_count": 15,
      "outputs": []
    },
    {
      "cell_type": "code",
      "metadata": {
        "id": "EGG7Nl5r6BZs",
        "colab_type": "code",
        "colab": {}
      },
      "source": [
        "for i in range(100): x = a @ x"
      ],
      "execution_count": 16,
      "outputs": []
    },
    {
      "cell_type": "code",
      "metadata": {
        "id": "OFkKZueZ6BZy",
        "colab_type": "code",
        "colab": {
          "base_uri": "https://localhost:8080/",
          "height": 34
        },
        "outputId": "2b571f59-4002-4c8e-8c22-6d0520628f17"
      },
      "source": [
        "x.mean(),x.std()"
      ],
      "execution_count": 17,
      "outputs": [
        {
          "output_type": "execute_result",
          "data": {
            "text/plain": [
              "(tensor(0.), tensor(0.))"
            ]
          },
          "metadata": {
            "tags": []
          },
          "execution_count": 17
        }
      ]
    },
    {
      "cell_type": "markdown",
      "metadata": {
        "id": "y9T7dLNN6BZ3",
        "colab_type": "text"
      },
      "source": [
        "Here, every activation vanished to 0. So to avoid that problem, people have come with several strategies to initialize their weight matices, such as:\n",
        "- use a standard deviation that will make sure x and Ax have exactly the same scale\n",
        "- use an orthogonal matrix to initialize the weight (orthogonal matrices have the special property that they preserve the L2 norm, so x and Ax would have the same sum of squares in that case)\n",
        "- use [spectral normalization](https://arxiv.org/pdf/1802.05957.pdf) on the matrix A  (the spectral norm of A is the least possible number M such that `torch.norm(A@x) <= M*torch.norm(x)` so dividing A by this M insures you don't overflow. You can still vanish with this)"
      ]
    },
    {
      "cell_type": "markdown",
      "metadata": {
        "id": "MeNCnk6d6BZ4",
        "colab_type": "text"
      },
      "source": [
        "### The magic number for scaling"
      ]
    },
    {
      "cell_type": "markdown",
      "metadata": {
        "id": "8j__CZLp6BZ7",
        "colab_type": "text"
      },
      "source": [
        "Here we will focus on the first one, which is the Xavier initialization. It tells us that we should use a scale equal to `1/math.sqrt(n_in)` where `n_in` is the number of inputs of our matrix."
      ]
    },
    {
      "cell_type": "markdown",
      "metadata": {
        "id": "uuolIhMw6BZ8",
        "colab_type": "text"
      },
      "source": [
        "[Jump_to lesson 9 video](https://course.fast.ai/videos/?lesson=9&t=1273)"
      ]
    },
    {
      "cell_type": "code",
      "metadata": {
        "id": "VfkF56Y16BZ9",
        "colab_type": "code",
        "colab": {}
      },
      "source": [
        "import math"
      ],
      "execution_count": 18,
      "outputs": []
    },
    {
      "cell_type": "code",
      "metadata": {
        "id": "gVlyNZly6BaC",
        "colab_type": "code",
        "colab": {}
      },
      "source": [
        "x = torch.randn(512)\n",
        "a = torch.randn(512,512) / math.sqrt(512)"
      ],
      "execution_count": 19,
      "outputs": []
    },
    {
      "cell_type": "code",
      "metadata": {
        "id": "QraHHv-16BaH",
        "colab_type": "code",
        "colab": {}
      },
      "source": [
        "for i in range(100): x = a @ x"
      ],
      "execution_count": 20,
      "outputs": []
    },
    {
      "cell_type": "code",
      "metadata": {
        "id": "UCW2yVlQ6BaN",
        "colab_type": "code",
        "colab": {
          "base_uri": "https://localhost:8080/",
          "height": 34
        },
        "outputId": "7abc2d43-20d5-4278-e780-efd4bee4836c"
      },
      "source": [
        "x.mean(),x.std()"
      ],
      "execution_count": 21,
      "outputs": [
        {
          "output_type": "execute_result",
          "data": {
            "text/plain": [
              "(tensor(0.0321), tensor(12.6097))"
            ]
          },
          "metadata": {
            "tags": []
          },
          "execution_count": 21
        }
      ]
    },
    {
      "cell_type": "markdown",
      "metadata": {
        "id": "9z1Cx7gO6BaT",
        "colab_type": "text"
      },
      "source": [
        "And indeed it works. Note that this magic number isn't very far from the 0.01 we had earlier."
      ]
    },
    {
      "cell_type": "code",
      "metadata": {
        "id": "kKORsqsk6BaU",
        "colab_type": "code",
        "colab": {},
        "outputId": "8dde3f83-66f9-484a-aa3e-d6b817a71653"
      },
      "source": [
        "1/ math.sqrt(512)"
      ],
      "execution_count": null,
      "outputs": [
        {
          "output_type": "execute_result",
          "data": {
            "text/plain": [
              "0.044194173824159216"
            ]
          },
          "metadata": {
            "tags": []
          },
          "execution_count": 0
        }
      ]
    },
    {
      "cell_type": "markdown",
      "metadata": {
        "id": "n-5CgRR-6Bae",
        "colab_type": "text"
      },
      "source": [
        "But where does it come from? It's not that mysterious if you remember the definition of the matrix multiplication. When we do `y = a @ x`, the coefficients of `y` are defined by\n",
        "\n",
        "$$y_{i} = a_{i,0} x_{0} + a_{i,1} x_{1} + \\cdots + a_{i,n-1} x_{n-1} = \\sum_{k=0}^{n-1} a_{i,k} x_{k}$$\n",
        "\n",
        "or in code:\n",
        "```\n",
        "y[i] = sum([c*d for c,d in zip(a[i], x)])\n",
        "```\n",
        "\n",
        "Now at the very beginning, our `x` vector has a mean of roughly 0. and a standard deviation of roughly 1. (since we picked it that way)."
      ]
    },
    {
      "cell_type": "code",
      "metadata": {
        "id": "paWmhgby6Baf",
        "colab_type": "code",
        "colab": {
          "base_uri": "https://localhost:8080/",
          "height": 34
        },
        "outputId": "0f21e44d-2e67-49fa-d027-8b9db74b3ad3"
      },
      "source": [
        "x = torch.randn(512)\n",
        "x.mean(), x.std()"
      ],
      "execution_count": 22,
      "outputs": [
        {
          "output_type": "execute_result",
          "data": {
            "text/plain": [
              "(tensor(0.0715), tensor(0.9981))"
            ]
          },
          "metadata": {
            "tags": []
          },
          "execution_count": 22
        }
      ]
    },
    {
      "cell_type": "markdown",
      "metadata": {
        "id": "TDUYxFli6Ban",
        "colab_type": "text"
      },
      "source": [
        "NB: This is why it's extremely important to normalize your inputs in Deep Learning, the intialization rules have been designed with inputs that have a mean 0. and a standard deviation of 1.\n",
        "\n",
        "If you need a refresher from your statistics course, the mean is the sum of all the elements divided by the number of elements (a basic average). The standard deviation represents if the data stays close to the mean or on the contrary gets values that are far away. It's computed by the following formula:\n",
        "\n",
        "$$\\sigma = \\sqrt{\\frac{1}{n}\\left[(x_{0}-m)^{2} + (x_{1}-m)^{2} + \\cdots + (x_{n-1}-m)^{2}\\right]}$$\n",
        "\n",
        "where m is the mean and $\\sigma$ (the greek letter sigma) is the standard deviation. Here we have a mean of 0, so it's just the square root of the mean of x squared.\n",
        "\n",
        "If we go back to `y = a @ x` and assume that we chose weights for `a` that also have a mean of 0, we can compute the standard deviation of `y` quite easily. Since it's random, and we may fall on bad numbers, we repeat the operation 100 times."
      ]
    },
    {
      "cell_type": "code",
      "metadata": {
        "id": "hUfDnZlD6Bao",
        "colab_type": "code",
        "colab": {
          "base_uri": "https://localhost:8080/",
          "height": 34
        },
        "outputId": "66cf7e24-53c4-42ab-fbdf-128e69158e88"
      },
      "source": [
        "mean,sqr = 0.,0.\n",
        "for i in range(100):\n",
        "    x = torch.randn(512)\n",
        "    a = torch.randn(512, 512)\n",
        "    y = a @ x\n",
        "    mean += y.mean().item()\n",
        "    sqr  += y.pow(2).mean().item()\n",
        "mean/100,sqr/100"
      ],
      "execution_count": 23,
      "outputs": [
        {
          "output_type": "execute_result",
          "data": {
            "text/plain": [
              "(0.11542621694505215, 512.2074176025391)"
            ]
          },
          "metadata": {
            "tags": []
          },
          "execution_count": 23
        }
      ]
    },
    {
      "cell_type": "markdown",
      "metadata": {
        "id": "zUhFLbK36Bau",
        "colab_type": "text"
      },
      "source": [
        "Now that looks very close to the dimension of our matrix 512. And that's no coincidence! When you compute y, you sum 512 product of one element of a by one element of x. So what's the mean and the standard deviation of such a product? We can show mathematically that as long as the elements in `a` and the elements in `x` are independent, the mean is 0 and the std is 1. This can also be seen experimentally:"
      ]
    },
    {
      "cell_type": "code",
      "metadata": {
        "id": "HcaDp_3s6Bav",
        "colab_type": "code",
        "colab": {
          "base_uri": "https://localhost:8080/",
          "height": 34
        },
        "outputId": "38b9b406-5aeb-404b-8e24-edd5aec87e23"
      },
      "source": [
        "mean,sqr = 0.,0.\n",
        "for i in range(10000):\n",
        "    x = torch.randn(1)\n",
        "    a = torch.randn(1)\n",
        "    y = a*x\n",
        "    mean += y.item()\n",
        "    sqr  += y.pow(2).item()\n",
        "mean/10000,sqr/10000"
      ],
      "execution_count": 24,
      "outputs": [
        {
          "output_type": "execute_result",
          "data": {
            "text/plain": [
              "(0.020686202364610107, 1.0067497057266679)"
            ]
          },
          "metadata": {
            "tags": []
          },
          "execution_count": 24
        }
      ]
    },
    {
      "cell_type": "code",
      "metadata": {
        "id": "LZ2CzCisCfa4",
        "colab_type": "code",
        "colab": {}
      },
      "source": [
        "torch.randn?"
      ],
      "execution_count": 25,
      "outputs": []
    },
    {
      "cell_type": "markdown",
      "metadata": {
        "id": "E4jDS0_66Ba0",
        "colab_type": "text"
      },
      "source": [
        "Then we sum 512 of those things that have a mean of zero, and a mean of squares of 1, so we get something that has a mean of 0, and mean of square of 512, hence `math.sqrt(512)` being our magic number. If we scale the weights of the matrix `a` and divide them by this `math.sqrt(512)`, it will give us a `y` of scale 1, and repeating the product has many times as we want won't overflow or vanish."
      ]
    },
    {
      "cell_type": "markdown",
      "metadata": {
        "id": "D53_oNGK6Ba1",
        "colab_type": "text"
      },
      "source": [
        "### Adding ReLU in the mix"
      ]
    },
    {
      "cell_type": "markdown",
      "metadata": {
        "id": "B27hxjUg6Ba2",
        "colab_type": "text"
      },
      "source": [
        "We can reproduce the previous experiment with a ReLU, to see that this time, the mean shifts and the standard deviation becomes 0.5. This time the magic number will be `math.sqrt(2/512)` to properly scale the weights of the matrix."
      ]
    },
    {
      "cell_type": "code",
      "metadata": {
        "id": "zBKg-ykh6Ba4",
        "colab_type": "code",
        "colab": {
          "base_uri": "https://localhost:8080/",
          "height": 34
        },
        "outputId": "89ef739b-edd4-4ab6-d7eb-5f2eec0bc7ea"
      },
      "source": [
        "mean,sqr = 0.,0.\n",
        "for i in range(10000):\n",
        "    x = torch.randn(1)\n",
        "    a = torch.randn(1)\n",
        "    y = a*x\n",
        "    y = 0 if y < 0 else y.item()\n",
        "    mean += y\n",
        "    sqr  += y ** 2\n",
        "mean/10000,sqr/10000"
      ],
      "execution_count": 26,
      "outputs": [
        {
          "output_type": "execute_result",
          "data": {
            "text/plain": [
              "(0.31407045485200963, 0.48781361981899535)"
            ]
          },
          "metadata": {
            "tags": []
          },
          "execution_count": 26
        }
      ]
    },
    {
      "cell_type": "markdown",
      "metadata": {
        "id": "JmH5NE8y6Ba9",
        "colab_type": "text"
      },
      "source": [
        "We can double check by running the experiment on the whole matrix product."
      ]
    },
    {
      "cell_type": "code",
      "metadata": {
        "id": "oXdC1j2G6Ba-",
        "colab_type": "code",
        "colab": {
          "base_uri": "https://localhost:8080/",
          "height": 34
        },
        "outputId": "2f252045-3adb-447a-de56-e955b414529d"
      },
      "source": [
        "mean,sqr = 0.,0.\n",
        "for i in range(100):\n",
        "    x = torch.randn(512)\n",
        "    a = torch.randn(512, 512)\n",
        "    y = a @ x\n",
        "    y = y.clamp(min=0)\n",
        "    mean += y.mean().item()\n",
        "    sqr  += y.pow(2).mean().item()\n",
        "mean/100,sqr/100"
      ],
      "execution_count": 27,
      "outputs": [
        {
          "output_type": "execute_result",
          "data": {
            "text/plain": [
              "(9.087629957199097, 259.072939453125)"
            ]
          },
          "metadata": {
            "tags": []
          },
          "execution_count": 27
        }
      ]
    },
    {
      "cell_type": "markdown",
      "metadata": {
        "id": "ABnyTpVs6BbC",
        "colab_type": "text"
      },
      "source": [
        "Or that scaling the coefficient with the magic number gives us a scale of 1."
      ]
    },
    {
      "cell_type": "code",
      "metadata": {
        "id": "TulExl1q6BbE",
        "colab_type": "code",
        "colab": {
          "base_uri": "https://localhost:8080/",
          "height": 34
        },
        "outputId": "9d34d74b-402c-4845-e22e-8b550bf80087"
      },
      "source": [
        "mean,sqr = 0.,0.\n",
        "for i in range(100):\n",
        "    x = torch.randn(512)\n",
        "    a = torch.randn(512, 512) * math.sqrt(2/512)\n",
        "    y = a @ x\n",
        "    y = y.clamp(min=0)\n",
        "    mean += y.mean().item()\n",
        "    sqr  += y.pow(2).mean().item()\n",
        "mean/100,sqr/100"
      ],
      "execution_count": 28,
      "outputs": [
        {
          "output_type": "execute_result",
          "data": {
            "text/plain": [
              "(0.560662140250206, 0.9873530852794647)"
            ]
          },
          "metadata": {
            "tags": []
          },
          "execution_count": 28
        }
      ]
    },
    {
      "cell_type": "markdown",
      "metadata": {
        "id": "M_O-zzvH6BbL",
        "colab_type": "text"
      },
      "source": [
        "The math behind is a tiny bit more complex, and you can find everything in the [Kaiming](https://arxiv.org/abs/1502.01852) and the [Xavier](http://proceedings.mlr.press/v9/glorot10a.html) paper but this gives the intuition behing those results."
      ]
    }
  ]
}