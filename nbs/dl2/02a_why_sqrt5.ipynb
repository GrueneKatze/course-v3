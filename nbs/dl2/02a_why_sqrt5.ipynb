{
  "nbformat": 4,
  "nbformat_minor": 0,
  "metadata": {
    "kernelspec": {
      "display_name": "Python 3",
      "language": "python",
      "name": "python3"
    },
    "colab": {
      "name": "02a_why_sqrt5.ipynb",
      "provenance": []
    },
    "accelerator": "GPU"
  },
  "cells": [
    {
      "cell_type": "code",
      "metadata": {
        "id": "qF3oJEIOShyV",
        "colab_type": "code",
        "colab": {
          "base_uri": "https://localhost:8080/",
          "height": 272
        },
        "outputId": "9ec5f894-6ec3-4e8f-becb-7f58d0b769db"
      },
      "source": [
        "!curl -s https://course.fast.ai/setup/colab | bash\n",
        "!pip install fire\n",
        "%matplotlib inline\n",
        "from fastai.basics import *"
      ],
      "execution_count": 1,
      "outputs": [
        {
          "output_type": "stream",
          "text": [
            "Updating fastai...\n",
            "Done.\n",
            "Collecting fire\n",
            "\u001b[?25l  Downloading https://files.pythonhosted.org/packages/34/a7/0e22e70778aca01a52b9c899d9c145c6396d7b613719cd63db97ffa13f2f/fire-0.3.1.tar.gz (81kB)\n",
            "\u001b[K     |████████████████████████████████| 81kB 2.6MB/s \n",
            "\u001b[?25hRequirement already satisfied: six in /usr/local/lib/python3.6/dist-packages (from fire) (1.15.0)\n",
            "Requirement already satisfied: termcolor in /usr/local/lib/python3.6/dist-packages (from fire) (1.1.0)\n",
            "Building wheels for collected packages: fire\n",
            "  Building wheel for fire (setup.py) ... \u001b[?25l\u001b[?25hdone\n",
            "  Created wheel for fire: filename=fire-0.3.1-py2.py3-none-any.whl size=111005 sha256=da5ca835a6c796d0324a18c8e9edeffe6974789cefefa53ca92fb404e62e66cc\n",
            "  Stored in directory: /root/.cache/pip/wheels/c1/61/df/768b03527bf006b546dce284eb4249b185669e65afc5fbb2ac\n",
            "Successfully built fire\n",
            "Installing collected packages: fire\n",
            "Successfully installed fire-0.3.1\n"
          ],
          "name": "stdout"
        }
      ]
    },
    {
      "cell_type": "code",
      "metadata": {
        "id": "oAH6rI_5ShVm",
        "colab_type": "code",
        "colab": {
          "base_uri": "https://localhost:8080/",
          "height": 138
        },
        "outputId": "97243dc2-c177-4ae0-9584-36718fee3393"
      },
      "source": [
        "from google.colab import drive\n",
        "drive.mount('/content/gdrive', force_remount=True)\n",
        "%cd '/content/gdrive/My Drive/Colab Notebooks/'"
      ],
      "execution_count": 2,
      "outputs": [
        {
          "output_type": "stream",
          "text": [
            "Go to this URL in a browser: https://accounts.google.com/o/oauth2/auth?client_id=947318989803-6bn6qk8qdgf4n4g3pfee6491hc0brc4i.apps.googleusercontent.com&redirect_uri=urn%3aietf%3awg%3aoauth%3a2.0%3aoob&response_type=code&scope=email%20https%3a%2f%2fwww.googleapis.com%2fauth%2fdocs.test%20https%3a%2f%2fwww.googleapis.com%2fauth%2fdrive%20https%3a%2f%2fwww.googleapis.com%2fauth%2fdrive.photos.readonly%20https%3a%2f%2fwww.googleapis.com%2fauth%2fpeopleapi.readonly\n",
            "\n",
            "Enter your authorization code:\n",
            "··········\n",
            "Mounted at /content/gdrive\n",
            "/content/gdrive/My Drive/Colab Notebooks\n"
          ],
          "name": "stdout"
        }
      ]
    },
    {
      "cell_type": "code",
      "metadata": {
        "id": "1tQOU2GpSdY1",
        "colab_type": "code",
        "colab": {}
      },
      "source": [
        "%load_ext autoreload\n",
        "%autoreload 2\n",
        "\n",
        "%matplotlib inline"
      ],
      "execution_count": null,
      "outputs": []
    },
    {
      "cell_type": "markdown",
      "metadata": {
        "id": "QSd0zexuSdY8",
        "colab_type": "text"
      },
      "source": [
        "## Does nn.Conv2d init work well?"
      ]
    },
    {
      "cell_type": "markdown",
      "metadata": {
        "id": "RZSKhh68SdY-",
        "colab_type": "text"
      },
      "source": [
        "[Jump_to lesson 9 video](https://course.fast.ai/videos/?lesson=9&t=21)"
      ]
    },
    {
      "cell_type": "code",
      "metadata": {
        "id": "hubc4plNSdY_",
        "colab_type": "code",
        "colab": {}
      },
      "source": [
        "#export\n",
        "from exp.nb_02 import *\n",
        "\n",
        "def get_data():\n",
        "    path = datasets.download_data(MNIST_URL, ext='.gz')\n",
        "    with gzip.open(path, 'rb') as f:\n",
        "        ((x_train, y_train), (x_valid, y_valid), _) = pickle.load(f, encoding='latin-1')\n",
        "    return map(tensor, (x_train,y_train,x_valid,y_valid))\n",
        "\n",
        "def normalize(x, m, s): return (x-m)/s"
      ],
      "execution_count": 3,
      "outputs": []
    },
    {
      "cell_type": "code",
      "metadata": {
        "id": "uuItXEkSSdZE",
        "colab_type": "code",
        "colab": {}
      },
      "source": [
        "torch.nn.modules.conv._ConvNd.reset_parameters??"
      ],
      "execution_count": 4,
      "outputs": []
    },
    {
      "cell_type": "code",
      "metadata": {
        "id": "_yNuY5pLSdZJ",
        "colab_type": "code",
        "colab": {
          "base_uri": "https://localhost:8080/",
          "height": 34
        },
        "outputId": "e863d8ad-6b46-4a4a-b6bf-ab4c3e15d613"
      },
      "source": [
        "x_train,y_train,x_valid,y_valid = get_data()\n",
        "train_mean,train_std = x_train.mean(),x_train.std()\n",
        "x_train = normalize(x_train, train_mean, train_std)\n",
        "x_valid = normalize(x_valid, train_mean, train_std)"
      ],
      "execution_count": 5,
      "outputs": [
        {
          "output_type": "stream",
          "text": [
            "Downloading http://deeplearning.net/data/mnist/mnist.pkl.gz\n"
          ],
          "name": "stdout"
        },
        {
          "output_type": "display_data",
          "data": {
            "text/html": [
              ""
            ],
            "text/plain": [
              "<IPython.core.display.HTML object>"
            ]
          },
          "metadata": {
            "tags": []
          }
        }
      ]
    },
    {
      "cell_type": "code",
      "metadata": {
        "id": "pqGFq2EMUYHU",
        "colab_type": "code",
        "colab": {
          "base_uri": "https://localhost:8080/",
          "height": 34
        },
        "outputId": "45970533-72a0-4ffe-fd54-2094f7ab1fcb"
      },
      "source": [
        "x_train.shape,x_valid.shape"
      ],
      "execution_count": 6,
      "outputs": [
        {
          "output_type": "execute_result",
          "data": {
            "text/plain": [
              "(torch.Size([50000, 784]), torch.Size([10000, 784]))"
            ]
          },
          "metadata": {
            "tags": []
          },
          "execution_count": 6
        }
      ]
    },
    {
      "cell_type": "code",
      "metadata": {
        "id": "JDPNog9tSdZO",
        "colab_type": "code",
        "colab": {
          "base_uri": "https://localhost:8080/",
          "height": 34
        },
        "outputId": "71f52831-cd11-4710-c15a-10cbe465dae7"
      },
      "source": [
        "x_train = x_train.view(-1,1,28,28)\n",
        "x_valid = x_valid.view(-1,1,28,28)\n",
        "x_train.shape,x_valid.shape"
      ],
      "execution_count": 7,
      "outputs": [
        {
          "output_type": "execute_result",
          "data": {
            "text/plain": [
              "(torch.Size([50000, 1, 28, 28]), torch.Size([10000, 1, 28, 28]))"
            ]
          },
          "metadata": {
            "tags": []
          },
          "execution_count": 7
        }
      ]
    },
    {
      "cell_type": "code",
      "metadata": {
        "id": "HMuKUuVOSdZW",
        "colab_type": "code",
        "colab": {
          "base_uri": "https://localhost:8080/",
          "height": 34
        },
        "outputId": "765db2bc-fe69-45a1-8b37-2561c5054d2d"
      },
      "source": [
        "n,*_ = x_train.shape\n",
        "c = y_train.max()+1\n",
        "nh = 32\n",
        "n,c"
      ],
      "execution_count": 8,
      "outputs": [
        {
          "output_type": "execute_result",
          "data": {
            "text/plain": [
              "(50000, tensor(10))"
            ]
          },
          "metadata": {
            "tags": []
          },
          "execution_count": 8
        }
      ]
    },
    {
      "cell_type": "code",
      "metadata": {
        "id": "nsBffDbsVEUc",
        "colab_type": "code",
        "colab": {}
      },
      "source": [
        "nn.Conv2d?"
      ],
      "execution_count": 9,
      "outputs": []
    },
    {
      "cell_type": "code",
      "metadata": {
        "id": "cdNa5JJeSdZc",
        "colab_type": "code",
        "colab": {}
      },
      "source": [
        "l1 = nn.Conv2d(1, nh, 5)"
      ],
      "execution_count": 10,
      "outputs": []
    },
    {
      "cell_type": "code",
      "metadata": {
        "id": "R0jL24QYSdZk",
        "colab_type": "code",
        "colab": {}
      },
      "source": [
        "x = x_valid[:100]"
      ],
      "execution_count": 11,
      "outputs": []
    },
    {
      "cell_type": "code",
      "metadata": {
        "id": "rb3YlEICSdZq",
        "colab_type": "code",
        "colab": {},
        "outputId": "3c628b6d-9ab7-44ea-d962-41f50c822a68"
      },
      "source": [
        "x.shape"
      ],
      "execution_count": null,
      "outputs": [
        {
          "output_type": "execute_result",
          "data": {
            "text/plain": [
              "torch.Size([100, 1, 28, 28])"
            ]
          },
          "metadata": {
            "tags": []
          },
          "execution_count": 0
        }
      ]
    },
    {
      "cell_type": "code",
      "metadata": {
        "id": "plkvTktLSdZw",
        "colab_type": "code",
        "colab": {}
      },
      "source": [
        "def stats(x): return x.mean(),x.std()"
      ],
      "execution_count": 12,
      "outputs": []
    },
    {
      "cell_type": "code",
      "metadata": {
        "id": "XAqoG7z_aApa",
        "colab_type": "code",
        "colab": {}
      },
      "source": [
        "l1.weight?"
      ],
      "execution_count": 17,
      "outputs": []
    },
    {
      "cell_type": "code",
      "metadata": {
        "id": "Q5_xHOX5SdZ2",
        "colab_type": "code",
        "colab": {
          "base_uri": "https://localhost:8080/",
          "height": 34
        },
        "outputId": "41e72df4-3474-4832-99d1-a433b4298a3d"
      },
      "source": [
        "l1.weight.shape"
      ],
      "execution_count": 14,
      "outputs": [
        {
          "output_type": "execute_result",
          "data": {
            "text/plain": [
              "torch.Size([32, 1, 5, 5])"
            ]
          },
          "metadata": {
            "tags": []
          },
          "execution_count": 14
        }
      ]
    },
    {
      "cell_type": "code",
      "metadata": {
        "id": "RUWc8B6ySdZ7",
        "colab_type": "code",
        "colab": {
          "base_uri": "https://localhost:8080/",
          "height": 84
        },
        "outputId": "2b622e34-d73a-4160-ac71-4cf517483654"
      },
      "source": [
        "stats(l1.weight),stats(l1.bias)"
      ],
      "execution_count": 15,
      "outputs": [
        {
          "output_type": "execute_result",
          "data": {
            "text/plain": [
              "((tensor(0.0019, grad_fn=<MeanBackward0>),\n",
              "  tensor(0.1152, grad_fn=<StdBackward0>)),\n",
              " (tensor(0.0105, grad_fn=<MeanBackward0>),\n",
              "  tensor(0.0968, grad_fn=<StdBackward0>)))"
            ]
          },
          "metadata": {
            "tags": []
          },
          "execution_count": 15
        }
      ]
    },
    {
      "cell_type": "code",
      "metadata": {
        "id": "t2qn2SOqSdaA",
        "colab_type": "code",
        "colab": {}
      },
      "source": [
        "t = l1(x)"
      ],
      "execution_count": 16,
      "outputs": []
    },
    {
      "cell_type": "code",
      "metadata": {
        "id": "2Azq5rJea4Nj",
        "colab_type": "code",
        "colab": {
          "base_uri": "https://localhost:8080/",
          "height": 34
        },
        "outputId": "9fb52423-f6d3-473d-888e-82b104f32173"
      },
      "source": [
        "t.shape"
      ],
      "execution_count": 18,
      "outputs": [
        {
          "output_type": "execute_result",
          "data": {
            "text/plain": [
              "torch.Size([100, 32, 24, 24])"
            ]
          },
          "metadata": {
            "tags": []
          },
          "execution_count": 18
        }
      ]
    },
    {
      "cell_type": "code",
      "metadata": {
        "id": "eYsoo1WzSdaF",
        "colab_type": "code",
        "colab": {},
        "outputId": "319c60a7-8e0d-4d73-f620-f863e7072f4d"
      },
      "source": [
        "stats(t)"
      ],
      "execution_count": null,
      "outputs": [
        {
          "output_type": "execute_result",
          "data": {
            "text/plain": [
              "(tensor(0.0107, grad_fn=<MeanBackward1>),\n",
              " tensor(0.5978, grad_fn=<StdBackward0>))"
            ]
          },
          "metadata": {
            "tags": []
          },
          "execution_count": 0
        }
      ]
    },
    {
      "cell_type": "code",
      "metadata": {
        "id": "qCdMwdrbSdaK",
        "colab_type": "code",
        "colab": {},
        "outputId": "6d2e4503-6252-45b0-d357-cc25eef35c57"
      },
      "source": [
        "init.kaiming_normal_(l1.weight, a=1.)\n",
        "stats(l1(x))"
      ],
      "execution_count": null,
      "outputs": [
        {
          "output_type": "execute_result",
          "data": {
            "text/plain": [
              "(tensor(0.0267, grad_fn=<MeanBackward1>),\n",
              " tensor(1.1067, grad_fn=<StdBackward0>))"
            ]
          },
          "metadata": {
            "tags": []
          },
          "execution_count": 0
        }
      ]
    },
    {
      "cell_type": "code",
      "metadata": {
        "id": "IySoYUH8SdaO",
        "colab_type": "code",
        "colab": {}
      },
      "source": [
        "import torch.nn.functional as F"
      ],
      "execution_count": null,
      "outputs": []
    },
    {
      "cell_type": "code",
      "metadata": {
        "id": "NYdF2OgZSdaU",
        "colab_type": "code",
        "colab": {}
      },
      "source": [
        "def f1(x,a=0): return F.leaky_relu(l1(x),a)"
      ],
      "execution_count": null,
      "outputs": []
    },
    {
      "cell_type": "code",
      "metadata": {
        "id": "EkEThfKgSdaa",
        "colab_type": "code",
        "colab": {},
        "outputId": "ca832926-fa95-49aa-c473-277ee000628c"
      },
      "source": [
        "init.kaiming_normal_(l1.weight, a=0)\n",
        "stats(f1(x))"
      ],
      "execution_count": null,
      "outputs": [
        {
          "output_type": "execute_result",
          "data": {
            "text/plain": [
              "(tensor(0.5547, grad_fn=<MeanBackward1>),\n",
              " tensor(1.0199, grad_fn=<StdBackward0>))"
            ]
          },
          "metadata": {
            "tags": []
          },
          "execution_count": 0
        }
      ]
    },
    {
      "cell_type": "code",
      "metadata": {
        "id": "fMIQ81MhSdaf",
        "colab_type": "code",
        "colab": {},
        "outputId": "f0b0614a-4f69-4545-eeef-152aeea0bb51"
      },
      "source": [
        "l1 = nn.Conv2d(1, nh, 5)\n",
        "stats(f1(x))"
      ],
      "execution_count": null,
      "outputs": [
        {
          "output_type": "execute_result",
          "data": {
            "text/plain": [
              "(tensor(0.2219, grad_fn=<MeanBackward1>),\n",
              " tensor(0.3653, grad_fn=<StdBackward0>))"
            ]
          },
          "metadata": {
            "tags": []
          },
          "execution_count": 0
        }
      ]
    },
    {
      "cell_type": "code",
      "metadata": {
        "id": "UJYnESVLSdat",
        "colab_type": "code",
        "colab": {},
        "outputId": "3a95e075-ea62-4852-a5d4-e0edec27c94c"
      },
      "source": [
        "l1.weight.shape"
      ],
      "execution_count": null,
      "outputs": [
        {
          "output_type": "execute_result",
          "data": {
            "text/plain": [
              "torch.Size([32, 1, 5, 5])"
            ]
          },
          "metadata": {
            "tags": []
          },
          "execution_count": 0
        }
      ]
    },
    {
      "cell_type": "code",
      "metadata": {
        "id": "V_Oo7JUNSday",
        "colab_type": "code",
        "colab": {},
        "outputId": "efe81861-fb1d-4f21-b45e-ad01a8553cf8"
      },
      "source": [
        "# receptive field size\n",
        "rec_fs = l1.weight[0,0].numel()\n",
        "rec_fs"
      ],
      "execution_count": null,
      "outputs": [
        {
          "output_type": "execute_result",
          "data": {
            "text/plain": [
              "25"
            ]
          },
          "metadata": {
            "tags": []
          },
          "execution_count": 0
        }
      ]
    },
    {
      "cell_type": "code",
      "metadata": {
        "id": "86nWQ_b2Sda7",
        "colab_type": "code",
        "colab": {},
        "outputId": "bfdb58e1-2356-4a73-8404-3110c52767bf"
      },
      "source": [
        "nf,ni,*_ = l1.weight.shape\n",
        "nf,ni"
      ],
      "execution_count": null,
      "outputs": [
        {
          "output_type": "execute_result",
          "data": {
            "text/plain": [
              "(32, 1)"
            ]
          },
          "metadata": {
            "tags": []
          },
          "execution_count": 0
        }
      ]
    },
    {
      "cell_type": "code",
      "metadata": {
        "id": "lUuzQ5cNSdbC",
        "colab_type": "code",
        "colab": {},
        "outputId": "52e6b5c8-2d92-43b9-9b62-db5c5401a041"
      },
      "source": [
        "fan_in  = ni*rec_fs\n",
        "fan_out = nf*rec_fs\n",
        "fan_in,fan_out"
      ],
      "execution_count": null,
      "outputs": [
        {
          "output_type": "execute_result",
          "data": {
            "text/plain": [
              "(25, 800)"
            ]
          },
          "metadata": {
            "tags": []
          },
          "execution_count": 0
        }
      ]
    },
    {
      "cell_type": "code",
      "metadata": {
        "id": "d-Tu-v4mSdbH",
        "colab_type": "code",
        "colab": {}
      },
      "source": [
        "def gain(a): return math.sqrt(2.0 / (1 + a**2))"
      ],
      "execution_count": null,
      "outputs": []
    },
    {
      "cell_type": "code",
      "metadata": {
        "id": "MZaGN_n1SdbM",
        "colab_type": "code",
        "colab": {},
        "outputId": "d220e14b-5387-4326-d038-4fe2490e9e0d"
      },
      "source": [
        "gain(1),gain(0),gain(0.01),gain(0.1),gain(math.sqrt(5.))"
      ],
      "execution_count": null,
      "outputs": [
        {
          "output_type": "execute_result",
          "data": {
            "text/plain": [
              "(1.0,\n",
              " 1.4142135623730951,\n",
              " 1.4141428569978354,\n",
              " 1.4071950894605838,\n",
              " 0.5773502691896257)"
            ]
          },
          "metadata": {
            "tags": []
          },
          "execution_count": 0
        }
      ]
    },
    {
      "cell_type": "code",
      "metadata": {
        "id": "ARgD0swiSdbS",
        "colab_type": "code",
        "colab": {},
        "outputId": "f48ba20b-2138-4f9c-e401-f88b828d4a16"
      },
      "source": [
        "torch.zeros(10000).uniform_(-1,1).std()"
      ],
      "execution_count": null,
      "outputs": [
        {
          "output_type": "execute_result",
          "data": {
            "text/plain": [
              "tensor(0.5788)"
            ]
          },
          "metadata": {
            "tags": []
          },
          "execution_count": 0
        }
      ]
    },
    {
      "cell_type": "code",
      "metadata": {
        "id": "wM6FNMKBSdbY",
        "colab_type": "code",
        "colab": {},
        "outputId": "d0f00c62-c24d-420c-e4db-97496ef145e2"
      },
      "source": [
        "1/math.sqrt(3.)"
      ],
      "execution_count": null,
      "outputs": [
        {
          "output_type": "execute_result",
          "data": {
            "text/plain": [
              "0.5773502691896258"
            ]
          },
          "metadata": {
            "tags": []
          },
          "execution_count": 0
        }
      ]
    },
    {
      "cell_type": "code",
      "metadata": {
        "id": "tNhtBKadSdbd",
        "colab_type": "code",
        "colab": {}
      },
      "source": [
        "def kaiming2(x,a, use_fan_out=False):\n",
        "    nf,ni,*_ = x.shape\n",
        "    rec_fs = x[0,0].shape.numel()\n",
        "    fan = nf*rec_fs if use_fan_out else ni*rec_fs\n",
        "    std = gain(a) / math.sqrt(fan)\n",
        "    bound = math.sqrt(3.) * std\n",
        "    x.data.uniform_(-bound,bound)"
      ],
      "execution_count": null,
      "outputs": []
    },
    {
      "cell_type": "code",
      "metadata": {
        "id": "WRsRV6-8Sdbh",
        "colab_type": "code",
        "colab": {},
        "outputId": "08afb9a2-8559-493f-bde4-45ad6f5dfad4"
      },
      "source": [
        "kaiming2(l1.weight, a=0);\n",
        "stats(f1(x))"
      ],
      "execution_count": null,
      "outputs": [
        {
          "output_type": "execute_result",
          "data": {
            "text/plain": [
              "(tensor(0.5603, grad_fn=<MeanBackward1>),\n",
              " tensor(1.0921, grad_fn=<StdBackward0>))"
            ]
          },
          "metadata": {
            "tags": []
          },
          "execution_count": 0
        }
      ]
    },
    {
      "cell_type": "code",
      "metadata": {
        "id": "u1KhVZJHSdbm",
        "colab_type": "code",
        "colab": {},
        "outputId": "2f0083aa-41c9-458c-b4ac-6be6fc8f84fa"
      },
      "source": [
        "kaiming2(l1.weight, a=math.sqrt(5.))\n",
        "stats(f1(x))"
      ],
      "execution_count": null,
      "outputs": [
        {
          "output_type": "execute_result",
          "data": {
            "text/plain": [
              "(tensor(0.2186, grad_fn=<MeanBackward1>),\n",
              " tensor(0.3437, grad_fn=<StdBackward0>))"
            ]
          },
          "metadata": {
            "tags": []
          },
          "execution_count": 0
        }
      ]
    },
    {
      "cell_type": "code",
      "metadata": {
        "id": "DPufzbX3Sdbt",
        "colab_type": "code",
        "colab": {}
      },
      "source": [
        "class Flatten(nn.Module):\n",
        "    def forward(self,x): return x.view(-1)"
      ],
      "execution_count": null,
      "outputs": []
    },
    {
      "cell_type": "code",
      "metadata": {
        "id": "ynZ76oSTSdby",
        "colab_type": "code",
        "colab": {}
      },
      "source": [
        "m = nn.Sequential(\n",
        "    nn.Conv2d(1,8, 5,stride=2,padding=2), nn.ReLU(),\n",
        "    nn.Conv2d(8,16,3,stride=2,padding=1), nn.ReLU(),\n",
        "    nn.Conv2d(16,32,3,stride=2,padding=1), nn.ReLU(),\n",
        "    nn.Conv2d(32,1,3,stride=2,padding=1),\n",
        "    nn.AdaptiveAvgPool2d(1),\n",
        "    Flatten(),\n",
        ")"
      ],
      "execution_count": null,
      "outputs": []
    },
    {
      "cell_type": "code",
      "metadata": {
        "id": "CfFiDvO5Sdb4",
        "colab_type": "code",
        "colab": {}
      },
      "source": [
        "y = y_valid[:100].float()"
      ],
      "execution_count": null,
      "outputs": []
    },
    {
      "cell_type": "code",
      "metadata": {
        "id": "mzmRFp3YSdb9",
        "colab_type": "code",
        "colab": {},
        "outputId": "526b6504-20d1-4439-8d58-db15544cd71b"
      },
      "source": [
        "t = m(x)\n",
        "stats(t)"
      ],
      "execution_count": null,
      "outputs": [
        {
          "output_type": "execute_result",
          "data": {
            "text/plain": [
              "(tensor(0.0875, grad_fn=<MeanBackward1>),\n",
              " tensor(0.0065, grad_fn=<StdBackward0>))"
            ]
          },
          "metadata": {
            "tags": []
          },
          "execution_count": 0
        }
      ]
    },
    {
      "cell_type": "code",
      "metadata": {
        "id": "H6hQmt8nSdcD",
        "colab_type": "code",
        "colab": {}
      },
      "source": [
        "l = mse(t,y)\n",
        "l.backward()"
      ],
      "execution_count": null,
      "outputs": []
    },
    {
      "cell_type": "code",
      "metadata": {
        "id": "Liv60bPjSdcI",
        "colab_type": "code",
        "colab": {},
        "outputId": "aef0c5b1-ae12-4bb0-b222-4a73e87575ff"
      },
      "source": [
        "stats(m[0].weight.grad)"
      ],
      "execution_count": null,
      "outputs": [
        {
          "output_type": "execute_result",
          "data": {
            "text/plain": [
              "(tensor(0.0054), tensor(0.0333))"
            ]
          },
          "metadata": {
            "tags": []
          },
          "execution_count": 0
        }
      ]
    },
    {
      "cell_type": "code",
      "metadata": {
        "id": "QYXVGwOWSdcO",
        "colab_type": "code",
        "colab": {}
      },
      "source": [
        "init.kaiming_uniform_??"
      ],
      "execution_count": null,
      "outputs": []
    },
    {
      "cell_type": "code",
      "metadata": {
        "id": "5UvedquISdcT",
        "colab_type": "code",
        "colab": {}
      },
      "source": [
        "for l in m:\n",
        "    if isinstance(l,nn.Conv2d):\n",
        "        init.kaiming_uniform_(l.weight)\n",
        "        l.bias.data.zero_()"
      ],
      "execution_count": null,
      "outputs": []
    },
    {
      "cell_type": "code",
      "metadata": {
        "id": "d6DtY4YKSdcY",
        "colab_type": "code",
        "colab": {},
        "outputId": "e54538d3-6553-40f0-fe85-dcec3ed78622"
      },
      "source": [
        "t = m(x)\n",
        "stats(t)"
      ],
      "execution_count": null,
      "outputs": [
        {
          "output_type": "execute_result",
          "data": {
            "text/plain": [
              "(tensor(-0.0352, grad_fn=<MeanBackward1>),\n",
              " tensor(0.4043, grad_fn=<StdBackward0>))"
            ]
          },
          "metadata": {
            "tags": []
          },
          "execution_count": 0
        }
      ]
    },
    {
      "cell_type": "code",
      "metadata": {
        "id": "VMfcegVNSdcc",
        "colab_type": "code",
        "colab": {},
        "outputId": "d4a43f25-e103-4d84-f9b0-71f6dd10d8fd"
      },
      "source": [
        "l = mse(t,y)\n",
        "l.backward()\n",
        "stats(m[0].weight.grad)"
      ],
      "execution_count": null,
      "outputs": [
        {
          "output_type": "execute_result",
          "data": {
            "text/plain": [
              "(tensor(0.0093), tensor(0.4231))"
            ]
          },
          "metadata": {
            "tags": []
          },
          "execution_count": 0
        }
      ]
    },
    {
      "cell_type": "markdown",
      "metadata": {
        "id": "h_AfcQLVSdcj",
        "colab_type": "text"
      },
      "source": [
        "## Export"
      ]
    },
    {
      "cell_type": "code",
      "metadata": {
        "id": "HxjuGkdmSdcj",
        "colab_type": "code",
        "colab": {}
      },
      "source": [
        "!./notebook2script.py 02a_why_sqrt5.ipynb"
      ],
      "execution_count": null,
      "outputs": []
    },
    {
      "cell_type": "code",
      "metadata": {
        "id": "7ronBlk-Sdcu",
        "colab_type": "code",
        "colab": {}
      },
      "source": [
        ""
      ],
      "execution_count": null,
      "outputs": []
    }
  ]
}